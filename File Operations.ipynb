{
 "cells": [
  {
   "cell_type": "code",
   "execution_count": 1,
   "metadata": {},
   "outputs": [],
   "source": [
    "import os"
   ]
  },
  {
   "cell_type": "code",
   "execution_count": 6,
   "metadata": {},
   "outputs": [
    {
     "name": "stdout",
     "output_type": "stream",
     "text": [
      "C:\\Users\\G634583\\OneDrive - General Mills\\Desktop\\Rohit\\RTL Metrics\n"
     ]
    }
   ],
   "source": [
    "val = input()"
   ]
  },
  {
   "cell_type": "code",
   "execution_count": 7,
   "metadata": {},
   "outputs": [
    {
     "name": "stdout",
     "output_type": "stream",
     "text": [
      "This is a valid path\n"
     ]
    }
   ],
   "source": [
    "def path_chk(x):\n",
    "    if (os.path.exists(x)):\n",
    "        return \"This is a valid path\"\n",
    "    else:\n",
    "        return \"This is not a valid path\"\n",
    "\n",
    "print(path_chk(val))"
   ]
  },
  {
   "cell_type": "code",
   "execution_count": 8,
   "metadata": {},
   "outputs": [
    {
     "name": "stdout",
     "output_type": "stream",
     "text": [
      "['C:\\\\Users\\\\G634583\\\\OneDrive - General Mills\\\\Desktop\\\\Rohit\\\\RTL Metrics\\\\Dashboard 11112019', 'C:\\\\Users\\\\G634583\\\\OneDrive - General Mills\\\\Desktop\\\\Rohit\\\\RTL Metrics\\\\Dashboard 15112019', 'C:\\\\Users\\\\G634583\\\\OneDrive - General Mills\\\\Desktop\\\\Rohit\\\\RTL Metrics\\\\Dashboard 17122019', 'C:\\\\Users\\\\G634583\\\\OneDrive - General Mills\\\\Desktop\\\\Rohit\\\\RTL Metrics\\\\Dashboard 20122019', 'C:\\\\Users\\\\G634583\\\\OneDrive - General Mills\\\\Desktop\\\\Rohit\\\\RTL Metrics\\\\Dashboard 26122019', 'C:\\\\Users\\\\G634583\\\\OneDrive - General Mills\\\\Desktop\\\\Rohit\\\\RTL Metrics\\\\Data Source 16122019', 'C:\\\\Users\\\\G634583\\\\OneDrive - General Mills\\\\Desktop\\\\Rohit\\\\RTL Metrics\\\\SLA Compliance Dashboard']\n",
      "['C:\\\\Users\\\\G634583\\\\OneDrive - General Mills\\\\Desktop\\\\Rohit\\\\RTL Metrics\\\\3 Metrics_04072019.txt', 'C:\\\\Users\\\\G634583\\\\OneDrive - General Mills\\\\Desktop\\\\Rohit\\\\RTL Metrics\\\\BOM Change Effective Date Format.xlsx', 'C:\\\\Users\\\\G634583\\\\OneDrive - General Mills\\\\Desktop\\\\Rohit\\\\RTL Metrics\\\\BOM Change Metrics Report.twbx', 'C:\\\\Users\\\\G634583\\\\OneDrive - General Mills\\\\Desktop\\\\Rohit\\\\RTL Metrics\\\\BOM Change Null Records.xlsx', 'C:\\\\Users\\\\G634583\\\\OneDrive - General Mills\\\\Desktop\\\\Rohit\\\\RTL Metrics\\\\Data Model.xlsx', 'C:\\\\Users\\\\G634583\\\\OneDrive - General Mills\\\\Desktop\\\\Rohit\\\\RTL Metrics\\\\final_output.csv', 'C:\\\\Users\\\\G634583\\\\OneDrive - General Mills\\\\Desktop\\\\Rohit\\\\RTL Metrics\\\\GTM - Ready To Launch.pptx', 'C:\\\\Users\\\\G634583\\\\OneDrive - General Mills\\\\Desktop\\\\Rohit\\\\RTL Metrics\\\\GTM ESC Dashboard (1).twb', 'C:\\\\Users\\\\G634583\\\\OneDrive - General Mills\\\\Desktop\\\\Rohit\\\\RTL Metrics\\\\GTM-RTL Summary(RCOE).pptx', 'C:\\\\Users\\\\G634583\\\\OneDrive - General Mills\\\\Desktop\\\\Rohit\\\\RTL Metrics\\\\GTM_summary.pptx', 'C:\\\\Users\\\\G634583\\\\OneDrive - General Mills\\\\Desktop\\\\Rohit\\\\RTL Metrics\\\\information-button (1).png', 'C:\\\\Users\\\\G634583\\\\OneDrive - General Mills\\\\Desktop\\\\Rohit\\\\RTL Metrics\\\\New Product Launch Metrics.twbx', 'C:\\\\Users\\\\G634583\\\\OneDrive - General Mills\\\\Desktop\\\\Rohit\\\\RTL Metrics\\\\NPL Data 11052020.xlsx', 'C:\\\\Users\\\\G634583\\\\OneDrive - General Mills\\\\Desktop\\\\Rohit\\\\RTL Metrics\\\\Planning BOM and Sourcing BOM.xlsx', 'C:\\\\Users\\\\G634583\\\\OneDrive - General Mills\\\\Desktop\\\\Rohit\\\\RTL Metrics\\\\Planning BOM and Sourcing BOM_V2.xlsx', 'C:\\\\Users\\\\G634583\\\\OneDrive - General Mills\\\\Desktop\\\\Rohit\\\\RTL Metrics\\\\Project Details+ (enterprise).tdsx', 'C:\\\\Users\\\\G634583\\\\OneDrive - General Mills\\\\Desktop\\\\Rohit\\\\RTL Metrics\\\\query-impala-575808.xlsx', 'C:\\\\Users\\\\G634583\\\\OneDrive - General Mills\\\\Desktop\\\\Rohit\\\\RTL Metrics\\\\RE CI Launch Type and Sold exclusive text.msg', 'C:\\\\Users\\\\G634583\\\\OneDrive - General Mills\\\\Desktop\\\\Rohit\\\\RTL Metrics\\\\Ready To Launch Details.txt', 'C:\\\\Users\\\\G634583\\\\OneDrive - General Mills\\\\Desktop\\\\Rohit\\\\RTL Metrics\\\\Ready To Launch Metrics.twbx', 'C:\\\\Users\\\\G634583\\\\OneDrive - General Mills\\\\Desktop\\\\Rohit\\\\RTL Metrics\\\\Ready To Launch Metrics.xlsx', 'C:\\\\Users\\\\G634583\\\\OneDrive - General Mills\\\\Desktop\\\\Rohit\\\\RTL Metrics\\\\RTL Changes 16122019.txt', 'C:\\\\Users\\\\G634583\\\\OneDrive - General Mills\\\\Desktop\\\\Rohit\\\\RTL Metrics\\\\RTL Code.txt', 'C:\\\\Users\\\\G634583\\\\OneDrive - General Mills\\\\Desktop\\\\Rohit\\\\RTL Metrics\\\\RTL Metrics Meeting_03072019.txt', 'C:\\\\Users\\\\G634583\\\\OneDrive - General Mills\\\\Desktop\\\\Rohit\\\\RTL Metrics\\\\RTL Metrics Performance.txt', 'C:\\\\Users\\\\G634583\\\\OneDrive - General Mills\\\\Desktop\\\\Rohit\\\\RTL Metrics\\\\RTL Metrics.twbx', 'C:\\\\Users\\\\G634583\\\\OneDrive - General Mills\\\\Desktop\\\\Rohit\\\\RTL Metrics\\\\RTL Projects.xlsx', 'C:\\\\Users\\\\G634583\\\\OneDrive - General Mills\\\\Desktop\\\\Rohit\\\\RTL Metrics\\\\Dashboard 11112019\\\\Ready To Launch Metrics.twbx', 'C:\\\\Users\\\\G634583\\\\OneDrive - General Mills\\\\Desktop\\\\Rohit\\\\RTL Metrics\\\\Dashboard 15112019\\\\New Product Launch Metrics.tdsx', 'C:\\\\Users\\\\G634583\\\\OneDrive - General Mills\\\\Desktop\\\\Rohit\\\\RTL Metrics\\\\Dashboard 15112019\\\\Ready To Launch Metrics.twbx', 'C:\\\\Users\\\\G634583\\\\OneDrive - General Mills\\\\Desktop\\\\Rohit\\\\RTL Metrics\\\\Dashboard 17122019\\\\Ready To Launch Metrics.twbx', 'C:\\\\Users\\\\G634583\\\\OneDrive - General Mills\\\\Desktop\\\\Rohit\\\\RTL Metrics\\\\Dashboard 20122019\\\\Ready To Launch Metrics.twbx', 'C:\\\\Users\\\\G634583\\\\OneDrive - General Mills\\\\Desktop\\\\Rohit\\\\RTL Metrics\\\\Dashboard 26122019\\\\Ready To Launch Metrics.twbx', 'C:\\\\Users\\\\G634583\\\\OneDrive - General Mills\\\\Desktop\\\\Rohit\\\\RTL Metrics\\\\Data Source 16122019\\\\New Product Launch Metrics.twbx', 'C:\\\\Users\\\\G634583\\\\OneDrive - General Mills\\\\Desktop\\\\Rohit\\\\RTL Metrics\\\\SLA Compliance Dashboard\\\\SLA Compliance Dashboard.twb']\n"
     ]
    }
   ],
   "source": [
    "# Name of Files and Subfolders\n",
    "sub_name = []\n",
    "file_name = []\n",
    "for path, subdirs, files in os.walk(val):\n",
    "    for name in files:\n",
    "        file_name.append(os.path.join(path, name))\n",
    "    for name in subdirs:\n",
    "        sub_name.append(os.path.join(path, name))\n",
    "        \n",
    "print(sub_name)\n",
    "print(file_name)"
   ]
  },
  {
   "cell_type": "code",
   "execution_count": 13,
   "metadata": {},
   "outputs": [
    {
     "name": "stdout",
     "output_type": "stream",
     "text": [
      "Counter({'twbx': 10, 'xlsx': 9, 'txt': 7, 'pptx': 3, 'twb': 2, 'tdsx': 2, 'csv': 1, 'png': 1, 'msg': 1})\n"
     ]
    }
   ],
   "source": [
    "# Different file extensions and respective no of files \n",
    "ListFiles = os.walk(val)\n",
    "SplitTypes = []\n",
    "for walk_output in ListFiles:\n",
    "    for file_name in walk_output[-1]:\n",
    "        SplitTypes.append(file_name.split(\".\")[-1])\n",
    "res = str({i : SplitTypes.count(i) for i in set(SplitTypes)})\n",
    "print(res)"
   ]
  },
  {
   "cell_type": "code",
   "execution_count": 31,
   "metadata": {},
   "outputs": [
    {
     "name": "stdout",
     "output_type": "stream",
     "text": [
      "Counter({'.xlsx': 9, '': 7, '.txt': 6, '.twbx': 4, '.pptx': 3, '.twb': 1, '.png': 1, '.tdsx': 1, '.msg': 1})\n"
     ]
    }
   ],
   "source": [
    "#import glob\n",
    "#os.chdir(val)\n",
    "#cnt = collections.Counter()\n",
    "#for filename in glob.glob(\"*\"):\n",
    " #   name, ext = os.path.splitext(filename)\n",
    "  #  cnt[ext] += 1\n",
    "#print(cnt)"
   ]
  },
  {
   "cell_type": "code",
   "execution_count": 10,
   "metadata": {},
   "outputs": [
    {
     "name": "stdout",
     "output_type": "stream",
     "text": [
      "Biggest file is: C:\\Users\\G634583\\OneDrive - General Mills\\Desktop\\Rohit\\RTL Metrics\\Ready To Launch Metrics.xlsx\n",
      "Smallest file is: C:\\Users\\G634583\\OneDrive - General Mills\\Desktop\\Rohit\\RTL Metrics\\3 Metrics_04072019.txt\n"
     ]
    }
   ],
   "source": [
    "# Biggest and smallest file in that path\n",
    "f_size = []\n",
    "for path, subdirs, files in os.walk(val):\n",
    "    for name in files:\n",
    "        filePath = os.path.join(path, name)\n",
    "        f_size.append(filePath)\n",
    "biggest = max(f_size,key=os.path.getsize)\n",
    "smallest = min(f_size, key=os.path.getsize)\n",
    "print(\"Biggest file is: \" + biggest)\n",
    "print(\"Smallest file is: \" + smallest)"
   ]
  },
  {
   "cell_type": "code",
   "execution_count": 12,
   "metadata": {},
   "outputs": [],
   "source": [
    "import csv\n",
    "os.chdir(val)\n",
    "fields = [file_name, sub_name, res,biggest, smallest]\n",
    "with open('final_output.txt', 'a') as f:\n",
    "    writer = csv.writer(f)\n",
    "    writer.writerow(fields)"
   ]
  },
  {
   "cell_type": "code",
   "execution_count": null,
   "metadata": {},
   "outputs": [],
   "source": []
  }
 ],
 "metadata": {
  "kernelspec": {
   "display_name": "Python 3",
   "language": "python",
   "name": "python3"
  },
  "language_info": {
   "codemirror_mode": {
    "name": "ipython",
    "version": 3
   },
   "file_extension": ".py",
   "mimetype": "text/x-python",
   "name": "python",
   "nbconvert_exporter": "python",
   "pygments_lexer": "ipython3",
   "version": "3.6.5"
  }
 },
 "nbformat": 4,
 "nbformat_minor": 2
}
